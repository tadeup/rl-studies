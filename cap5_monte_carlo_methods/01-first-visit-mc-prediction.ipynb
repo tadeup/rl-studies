{
 "cells": [
  {
   "cell_type": "code",
   "execution_count": 18,
   "metadata": {},
   "outputs": [],
   "source": [
    "import gym\n",
    "import numpy as np"
   ]
  },
  {
   "cell_type": "code",
   "execution_count": 2,
   "metadata": {},
   "outputs": [],
   "source": [
    "env = gym.make('gym_gridworld:gridworld-v0') "
   ]
  },
  {
   "cell_type": "code",
   "execution_count": 3,
   "metadata": {},
   "outputs": [],
   "source": [
    "S = [\n",
    "    [[8, 0, 0], [0, 0, 0], [0, 0, 0]],\n",
    "    [[1, 8, 0], [0, 0, 0], [0, 0, 0]],\n",
    "    [[1, 0, 8], [0, 0, 0], [0, 0, 0]],\n",
    "    [[1, 0, 0], [8, 0, 0], [0, 0, 0]],\n",
    "    [[1, 0, 0], [0, 8, 0], [0, 0, 0]],\n",
    "    [[1, 0, 0], [0, 0, 8], [0, 0, 0]],\n",
    "    [[1, 0, 0], [0, 0, 0], [8, 0, 0]],\n",
    "    [[1, 0, 0], [0, 0, 0], [0, 8, 0]],\n",
    "    [[1, 0, 0], [0, 0, 0], [0, 0, 8]]\n",
    "]"
   ]
  },
  {
   "cell_type": "code",
   "execution_count": 120,
   "metadata": {},
   "outputs": [],
   "source": [
    "def fvmcPrediction(gamma):\n",
    "    returns = [[] for s in S]\n",
    "    for i in range(1,10000):\n",
    "        env.reset()\n",
    "        sequence = []\n",
    "        states = []\n",
    "        while True:\n",
    "            action = np.random.choice(env.action_space)\n",
    "            obs, reward, done, info = env.step(action)\n",
    "            sequence.append([obs, action, reward])\n",
    "            states.append(obs)\n",
    "            if done:\n",
    "                break\n",
    "        \n",
    "        g = 0\n",
    "        sequence.reverse()\n",
    "        for i, t in enumerate(sequence, start=1):\n",
    "            g = gamma * g + t[2]\n",
    "            if t[0] not in states[:-i]:\n",
    "                returns[S.index(t[0])].append(g)\n",
    "    \n",
    "    return returns"
   ]
  },
  {
   "cell_type": "code",
   "execution_count": 121,
   "metadata": {},
   "outputs": [],
   "source": [
    "a = fvmcPrediction(0.9)"
   ]
  },
  {
   "cell_type": "code",
   "execution_count": 62,
   "metadata": {},
   "outputs": [],
   "source": [
    "[obs, reward, done, info] = env.step('up')"
   ]
  },
  {
   "cell_type": "code",
   "execution_count": 125,
   "metadata": {},
   "outputs": [
    {
     "name": "stdout",
     "output_type": "stream",
     "text": [
      "0.0\n",
      "-5.35\n",
      "-7.18\n",
      "-5.34\n",
      "-6.89\n",
      "-7.73\n",
      "-7.18\n",
      "-7.75\n",
      "-8.12\n"
     ]
    }
   ],
   "source": [
    "for i in a:\n",
    "    print(round(np.mean(i), 2))"
   ]
  },
  {
   "cell_type": "code",
   "execution_count": null,
   "metadata": {},
   "outputs": [],
   "source": [
    "[\n",
    "    [0.0,   -5.35, -7.18],\n",
    "    [-5.34, -6.89, -7.73],\n",
    "    [-7.18, -7.75, -8.12]\n",
    "]"
   ]
  }
 ],
 "metadata": {
  "kernelspec": {
   "display_name": "Python 3",
   "language": "python",
   "name": "python3"
  },
  "language_info": {
   "codemirror_mode": {
    "name": "ipython",
    "version": 3
   },
   "file_extension": ".py",
   "mimetype": "text/x-python",
   "name": "python",
   "nbconvert_exporter": "python",
   "pygments_lexer": "ipython3",
   "version": "3.7.5"
  }
 },
 "nbformat": 4,
 "nbformat_minor": 2
}
