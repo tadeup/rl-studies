{
 "cells": [
  {
   "cell_type": "code",
   "execution_count": 1,
   "metadata": {},
   "outputs": [],
   "source": [
    "import gym\n",
    "import numpy as np"
   ]
  },
  {
   "cell_type": "code",
   "execution_count": 2,
   "metadata": {},
   "outputs": [],
   "source": [
    "env = gym.make('gym_gridworld:gridworld-v4', size=3) "
   ]
  },
  {
   "cell_type": "code",
   "execution_count": 6,
   "metadata": {},
   "outputs": [],
   "source": [
    "obs, reward, done, info = env.step(1)"
   ]
  },
  {
   "cell_type": "code",
   "execution_count": 51,
   "metadata": {},
   "outputs": [],
   "source": [
    "UP = 0\n",
    "RIGHT = 1\n",
    "DOWN = 2\n",
    "LEFT = 3\n",
    "\n",
    "def fvmcPrediction(policy=[0.25,0.25,0.25,0.25], gamma=1):\n",
    "    V = [0 for i in env.observation_space]\n",
    "    returns = [[] for i in env.observation_space]\n",
    "    \n",
    "    for i in range(10000):\n",
    "        \n",
    "        episode = {'S':[env.reset()], 'A':[], 'R':[], 'T':0}\n",
    "        done = False\n",
    "        while not done:\n",
    "            action = np.random.choice([UP, RIGHT, DOWN, LEFT], p=policy)\n",
    "            obs, reward, done, info = env.step(action)\n",
    "            episode['A'].append(action)\n",
    "            episode['R'].append(reward)\n",
    "            if not done:\n",
    "                episode['S'].append(obs)\n",
    "            episode['T'] += 1\n",
    "        \n",
    "        G = 0\n",
    "        for t in reversed(range(episode['T'])):\n",
    "            G = gamma * G + episode['R'][t]\n",
    "            if episode['S'][t] not in episode['S'][0:t]:\n",
    "                St_index = env.observation_space.index(episode['S'][t])\n",
    "                returns[St_index].append(G)\n",
    "                V[St_index] = np.mean(returns[St_index])\n",
    "        \n",
    "    return V, returns\n",
    "    \n",
    "            \n",
    "        "
   ]
  },
  {
   "cell_type": "code",
   "execution_count": null,
   "metadata": {},
   "outputs": [],
   "source": []
  },
  {
   "cell_type": "code",
   "execution_count": 43,
   "metadata": {},
   "outputs": [],
   "source": [
    "a, b = fvmcPrediction()\n",
    "np.array(a).reshape(3,3)"
   ]
  },
  {
   "cell_type": "code",
   "execution_count": 48,
   "metadata": {},
   "outputs": [
    {
     "data": {
      "text/plain": [
       "array([[-26.07      , -23.1954023 , -19.14492754],\n",
       "       [-23.91463415, -22.15384615, -15.57142857],\n",
       "       [-20.        , -12.27536232,   0.        ]])"
      ]
     },
     "execution_count": 48,
     "metadata": {},
     "output_type": "execute_result"
    }
   ],
   "source": [
    "np.array(a).reshape(3,3)"
   ]
  },
  {
   "cell_type": "code",
   "execution_count": 50,
   "metadata": {},
   "outputs": [
    {
     "data": {
      "text/plain": [
       "array([[-24.82      , -22.36746988, -19.96503497],\n",
       "       [-22.72871046, -18.97450753, -13.65739385],\n",
       "       [-21.2974359 , -14.12784091,   0.        ]])"
      ]
     },
     "execution_count": 50,
     "metadata": {},
     "output_type": "execute_result"
    }
   ],
   "source": [
    "a, b = fvmcPrediction()\n",
    "np.array(a).reshape(3,3)"
   ]
  },
  {
   "cell_type": "code",
   "execution_count": 52,
   "metadata": {},
   "outputs": [
    {
     "data": {
      "text/plain": [
       "array([[-25.8309    , -23.7291441 , -21.43484065],\n",
       "       [-23.93294602, -20.36404022, -14.81122521],\n",
       "       [-21.30576859, -14.93313584,   0.        ]])"
      ]
     },
     "execution_count": 52,
     "metadata": {},
     "output_type": "execute_result"
    }
   ],
   "source": [
    "a, b = fvmcPrediction()\n",
    "np.array(a).reshape(3,3)"
   ]
  },
  {
   "cell_type": "code",
   "execution_count": 53,
   "metadata": {},
   "outputs": [
    {
     "data": {
      "text/plain": [
       "array([[-25.9679    , -23.99589719, -21.55697887],\n",
       "       [-23.96081277, -20.35817781, -14.77106742],\n",
       "       [-21.44542871, -15.07234523,   0.        ]])"
      ]
     },
     "execution_count": 53,
     "metadata": {},
     "output_type": "execute_result"
    }
   ],
   "source": [
    "a, b = fvmcPrediction()\n",
    "np.array(a).reshape(3,3)"
   ]
  },
  {
   "cell_type": "code",
   "execution_count": 54,
   "metadata": {},
   "outputs": [
    {
     "data": {
      "text/plain": [
       "array([[-25.8249    , -23.86453411, -21.54215457],\n",
       "       [-23.93965099, -20.42170362, -15.03956886],\n",
       "       [-21.35428096, -14.95293786,   0.        ]])"
      ]
     },
     "execution_count": 54,
     "metadata": {},
     "output_type": "execute_result"
    }
   ],
   "source": [
    "a, b = fvmcPrediction()\n",
    "np.array(a).reshape(3,3)"
   ]
  },
  {
   "cell_type": "code",
   "execution_count": 55,
   "metadata": {},
   "outputs": [
    {
     "data": {
      "text/plain": [
       "array([[-26.384     , -24.44328161, -22.00857378],\n",
       "       [-24.28521593, -20.8537411 , -15.21673699],\n",
       "       [-21.75518263, -15.3309189 ,   0.        ]])"
      ]
     },
     "execution_count": 55,
     "metadata": {},
     "output_type": "execute_result"
    }
   ],
   "source": [
    "a, b = fvmcPrediction()\n",
    "np.array(a).reshape(3,3)"
   ]
  },
  {
   "cell_type": "code",
   "execution_count": null,
   "metadata": {},
   "outputs": [],
   "source": []
  }
 ],
 "metadata": {
  "kernelspec": {
   "display_name": "Python 3",
   "language": "python",
   "name": "python3"
  },
  "language_info": {
   "codemirror_mode": {
    "name": "ipython",
    "version": 3
   },
   "file_extension": ".py",
   "mimetype": "text/x-python",
   "name": "python",
   "nbconvert_exporter": "python",
   "pygments_lexer": "ipython3",
   "version": "3.7.5"
  }
 },
 "nbformat": 4,
 "nbformat_minor": 2
}
