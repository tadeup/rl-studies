{
 "cells": [
  {
   "cell_type": "code",
   "execution_count": 1,
   "metadata": {},
   "outputs": [],
   "source": [
    "import gym\n",
    "import numpy as np"
   ]
  },
  {
   "cell_type": "code",
   "execution_count": 14,
   "metadata": {},
   "outputs": [],
   "source": [
    "env = gym.make('gym_gridworld:gridworld-v4', size=3, player_pos=[0,0], goal_pos=[[2,2]]) "
   ]
  },
  {
   "cell_type": "code",
   "execution_count": 15,
   "metadata": {},
   "outputs": [],
   "source": [
    "UP = 0\n",
    "RIGHT = 1\n",
    "DOWN = 2\n",
    "LEFT = 3\n",
    "\n",
    "def fvmcPrediction(policy=[0.25,0.25,0.25,0.25], gamma=1):\n",
    "    V = [0 for i in env.observation_space]\n",
    "    returns = [[] for i in env.observation_space]\n",
    "    \n",
    "    for i in range(10000):\n",
    "        \n",
    "        episode = {'S':[env.reset()], 'A':[], 'R':[], 'T':0}\n",
    "        done = False\n",
    "        while not done:\n",
    "            action = np.random.choice([UP, RIGHT, DOWN, LEFT], p=policy)\n",
    "            obs, reward, done, info = env.step(action)\n",
    "            episode['A'].append(action)\n",
    "            episode['R'].append(reward)\n",
    "            if not done:\n",
    "                episode['S'].append(obs)\n",
    "            episode['T'] += 1\n",
    "        \n",
    "        G = 0\n",
    "        for t in reversed(range(episode['T'])):\n",
    "            G = gamma * G + episode['R'][t]\n",
    "            if episode['S'][t] not in episode['S'][0:t]:\n",
    "                St_index = env.observation_space.index(episode['S'][t])\n",
    "                returns[St_index].append(G)\n",
    "                V[St_index] = np.mean(returns[St_index])\n",
    "        \n",
    "    return V, returns     "
   ]
  },
  {
   "cell_type": "code",
   "execution_count": 16,
   "metadata": {},
   "outputs": [
    {
     "data": {
      "text/plain": [
       "array([[-25.8909    , -23.90033866, -21.22314324],\n",
       "       [-23.94686517, -20.46224096, -14.94355637],\n",
       "       [-21.34545455, -14.97926431,   0.        ]])"
      ]
     },
     "execution_count": 16,
     "metadata": {},
     "output_type": "execute_result"
    }
   ],
   "source": [
    "a, b = fvmcPrediction()\n",
    "np.array(a).reshape(3,3)"
   ]
  },
  {
   "cell_type": "code",
   "execution_count": 8,
   "metadata": {},
   "outputs": [],
   "source": [
    "env = gym.make('gym_gridworld:gridworld-v4', size=4, player_pos=[0,3], goal_pos=[[3,3], [0,0]]) "
   ]
  },
  {
   "cell_type": "code",
   "execution_count": 13,
   "metadata": {},
   "outputs": [
    {
     "data": {
      "text/plain": [
       "array([[  0.        , -12.94262725, -18.94979647, -20.97025   ],\n",
       "       [-12.95195673, -16.96533663, -18.99294383, -19.0237013 ],\n",
       "       [-18.95212665, -19.02053048, -17.04274316, -13.03391636],\n",
       "       [-21.23328999, -19.17568598, -13.00126783,   0.        ]])"
      ]
     },
     "execution_count": 13,
     "metadata": {},
     "output_type": "execute_result"
    }
   ],
   "source": [
    "a, b = fvmcPrediction()\n",
    "np.array(a).reshape(4,4)"
   ]
  },
  {
   "cell_type": "code",
   "execution_count": null,
   "metadata": {},
   "outputs": [],
   "source": []
  },
  {
   "cell_type": "code",
   "execution_count": null,
   "metadata": {},
   "outputs": [],
   "source": []
  },
  {
   "cell_type": "code",
   "execution_count": null,
   "metadata": {},
   "outputs": [],
   "source": []
  },
  {
   "cell_type": "code",
   "execution_count": null,
   "metadata": {},
   "outputs": [],
   "source": []
  },
  {
   "cell_type": "code",
   "execution_count": null,
   "metadata": {},
   "outputs": [],
   "source": []
  },
  {
   "cell_type": "code",
   "execution_count": null,
   "metadata": {},
   "outputs": [],
   "source": []
  },
  {
   "cell_type": "code",
   "execution_count": null,
   "metadata": {},
   "outputs": [],
   "source": []
  },
  {
   "cell_type": "code",
   "execution_count": null,
   "metadata": {},
   "outputs": [],
   "source": []
  }
 ],
 "metadata": {
  "kernelspec": {
   "display_name": "Python 3",
   "language": "python",
   "name": "python3"
  },
  "language_info": {
   "codemirror_mode": {
    "name": "ipython",
    "version": 3
   },
   "file_extension": ".py",
   "mimetype": "text/x-python",
   "name": "python",
   "nbconvert_exporter": "python",
   "pygments_lexer": "ipython3",
   "version": "3.7.5"
  }
 },
 "nbformat": 4,
 "nbformat_minor": 2
}
