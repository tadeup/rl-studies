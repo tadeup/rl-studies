{
 "cells": [
  {
   "cell_type": "code",
   "execution_count": 1,
   "metadata": {},
   "outputs": [],
   "source": [
    "import gym\n",
    "import numpy as np"
   ]
  },
  {
   "cell_type": "code",
   "execution_count": 2,
   "metadata": {},
   "outputs": [],
   "source": [
    "env = gym.make('gym_gridworld:gridworld-v4', size=3, player_pos=[0,0], goal_pos=[[2,2]]) "
   ]
  },
  {
   "cell_type": "code",
   "execution_count": 3,
   "metadata": {},
   "outputs": [],
   "source": [
    "UP = 0\n",
    "RIGHT = 1\n",
    "DOWN = 2\n",
    "LEFT = 3"
   ]
  },
  {
   "cell_type": "code",
   "execution_count": 4,
   "metadata": {},
   "outputs": [],
   "source": [
    "def fvmcPrediction(policy=[0.25,0.25,0.25,0.25], gamma=1):\n",
    "    #V = [0 for i in env.observation_space]\n",
    "    returns = [[] for i in env.observation_space]\n",
    "    \n",
    "    for i in range(10000):\n",
    "        \n",
    "        episode = {'S':[env.reset()], 'A':[], 'R':[], 'T':0}\n",
    "        done = False\n",
    "        while not done:\n",
    "            action = np.random.choice([UP, RIGHT, DOWN, LEFT], p=policy)\n",
    "            obs, reward, done, info = env.step(action)\n",
    "            episode['A'].append(action)\n",
    "            episode['R'].append(reward)\n",
    "            if not done:\n",
    "                episode['S'].append(obs)\n",
    "            episode['T'] += 1\n",
    "        \n",
    "        G = 0\n",
    "        for t in reversed(range(episode['T'])):\n",
    "            G = gamma * G + episode['R'][t]\n",
    "            if episode['S'][t] not in episode['S'][0:t]:\n",
    "                St_index = env.observation_space.index(episode['S'][t])\n",
    "                returns[St_index].append(G)\n",
    "                #V[St_index] = np.mean(returns[St_index])\n",
    "    V = [np.mean(i) if len(i) > 0 else 0 for i in returns ]\n",
    "        \n",
    "    return V, returns     "
   ]
  },
  {
   "cell_type": "code",
   "execution_count": 5,
   "metadata": {},
   "outputs": [
    {
     "data": {
      "text/plain": [
       "array([[-25.9309    , -23.79124579, -21.48336106],\n",
       "       [-23.98277326, -20.54890922, -14.83823946],\n",
       "       [-21.52327902, -14.93821575,   0.        ]])"
      ]
     },
     "execution_count": 5,
     "metadata": {},
     "output_type": "execute_result"
    }
   ],
   "source": [
    "a, b = fvmcPrediction()\n",
    "np.array(a).reshape(3,3)"
   ]
  },
  {
   "cell_type": "code",
   "execution_count": 32,
   "metadata": {},
   "outputs": [
    {
     "data": {
      "text/plain": [
       "array([[-26.096     , -24.29891371, -22.01630252],\n",
       "       [-24.1854585 , -20.69092185, -15.40180879],\n",
       "       [-21.66318754, -15.35466516,   0.        ]])"
      ]
     },
     "execution_count": 32,
     "metadata": {},
     "output_type": "execute_result"
    }
   ],
   "source": [
    "a, b = fvmcPrediction()\n",
    "np.array(a).reshape(3,3)"
   ]
  },
  {
   "cell_type": "code",
   "execution_count": 8,
   "metadata": {},
   "outputs": [],
   "source": [
    "env = gym.make('gym_gridworld:gridworld-v4', size=4, player_pos=[0,3], goal_pos=[[3,3], [0,0]]) "
   ]
  },
  {
   "cell_type": "code",
   "execution_count": 13,
   "metadata": {},
   "outputs": [
    {
     "data": {
      "text/plain": [
       "array([[  0.        , -12.94262725, -18.94979647, -20.97025   ],\n",
       "       [-12.95195673, -16.96533663, -18.99294383, -19.0237013 ],\n",
       "       [-18.95212665, -19.02053048, -17.04274316, -13.03391636],\n",
       "       [-21.23328999, -19.17568598, -13.00126783,   0.        ]])"
      ]
     },
     "execution_count": 13,
     "metadata": {},
     "output_type": "execute_result"
    }
   ],
   "source": [
    "a, b = fvmcPrediction()\n",
    "np.array(a).reshape(4,4)"
   ]
  },
  {
   "cell_type": "code",
   "execution_count": null,
   "metadata": {},
   "outputs": [],
   "source": []
  },
  {
   "cell_type": "code",
   "execution_count": null,
   "metadata": {},
   "outputs": [],
   "source": [
    "def epsilonSoftOnPolicyFvmcControl(epsilon):\n",
    "    policy=[np.random.choice([UP, RIGHT, DOWN, LEFT]) for s in env.observation_space]\n",
    "    Q = [{a: [0 for s in env.observation_space]} for a in [UP, RIGHT, DOWN, LEFT]]\n",
    "    returns = [{a: [[] for s in env.observation_space]} for a in [UP, RIGHT, DOWN, LEFT]]\n",
    "    \n",
    "    for i in range(10000):\n",
    "        \n",
    "        episode = {'S':[env.reset()], 'A':[], 'R':[], 'T':0}\n",
    "        done = False\n",
    "        while not done:\n",
    "            action = np.random.choice([UP, RIGHT, DOWN, LEFT], p=policy)\n",
    "            obs, reward, done, info = env.step(action)\n",
    "            episode['A'].append(action)\n",
    "            episode['R'].append(reward)\n",
    "            if not done:\n",
    "                episode['S'].append(obs)\n",
    "            episode['T'] += 1\n",
    "        \n",
    "        G = 0\n",
    "        for t in reversed(range(episode['T'])):\n",
    "            G = gamma * G + episode['R'][t]\n",
    "            if episode['S'][t] not in episode['S'][0:t]:\n",
    "                St_index = env.observation_space.index(episode['S'][t])\n",
    "                returns[St_index].append(G)\n",
    "                V[St_index] = np.mean(returns[St_index])\n",
    "        \n",
    "    return V, returns "
   ]
  },
  {
   "cell_type": "code",
   "execution_count": 4,
   "metadata": {},
   "outputs": [
    {
     "data": {
      "text/plain": [
       "[{0: [0, 0, 0, 0, 0, 0, 0, 0, 0]},\n",
       " {1: [0, 0, 0, 0, 0, 0, 0, 0, 0]},\n",
       " {2: [0, 0, 0, 0, 0, 0, 0, 0, 0]},\n",
       " {3: [0, 0, 0, 0, 0, 0, 0, 0, 0]}]"
      ]
     },
     "execution_count": 4,
     "metadata": {},
     "output_type": "execute_result"
    }
   ],
   "source": [
    "[{a: [0 for s in env.observation_space]} for a in [UP, RIGHT, DOWN, LEFT]]"
   ]
  },
  {
   "cell_type": "code",
   "execution_count": null,
   "metadata": {},
   "outputs": [],
   "source": []
  },
  {
   "cell_type": "code",
   "execution_count": null,
   "metadata": {},
   "outputs": [],
   "source": []
  },
  {
   "cell_type": "code",
   "execution_count": null,
   "metadata": {},
   "outputs": [],
   "source": []
  },
  {
   "cell_type": "code",
   "execution_count": null,
   "metadata": {},
   "outputs": [],
   "source": []
  },
  {
   "cell_type": "code",
   "execution_count": null,
   "metadata": {},
   "outputs": [],
   "source": []
  }
 ],
 "metadata": {
  "kernelspec": {
   "display_name": "Python 3",
   "language": "python",
   "name": "python3"
  },
  "language_info": {
   "codemirror_mode": {
    "name": "ipython",
    "version": 3
   },
   "file_extension": ".py",
   "mimetype": "text/x-python",
   "name": "python",
   "nbconvert_exporter": "python",
   "pygments_lexer": "ipython3",
   "version": "3.7.5"
  }
 },
 "nbformat": 4,
 "nbformat_minor": 2
}
