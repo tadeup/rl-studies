{
 "cells": [
  {
   "cell_type": "code",
   "execution_count": 1,
   "metadata": {},
   "outputs": [],
   "source": [
    "import gym"
   ]
  },
  {
   "cell_type": "code",
   "execution_count": 2,
   "metadata": {},
   "outputs": [],
   "source": [
    "env = gym.make('gym_gridworld:gridworld-v0') "
   ]
  },
  {
   "cell_type": "code",
   "execution_count": 3,
   "metadata": {},
   "outputs": [
    {
     "name": "stdout",
     "output_type": "stream",
     "text": [
      "|1, 0, 0|\n",
      "|0, 0, 0|\n",
      "|0, 0, 8|\n"
     ]
    }
   ],
   "source": [
    "env.reset()\n",
    "env.render()"
   ]
  },
  {
   "cell_type": "code",
   "execution_count": 15,
   "metadata": {},
   "outputs": [
    {
     "name": "stdout",
     "output_type": "stream",
     "text": [
      "|1, 8, 0|\n",
      "|0, 0, 0|\n",
      "|0, 0, 0|\n"
     ]
    }
   ],
   "source": [
    "obs, reward, done, info = env.step('right')\n",
    "env.render()"
   ]
  },
  {
   "cell_type": "code",
   "execution_count": 22,
   "metadata": {},
   "outputs": [],
   "source": [
    "S = [\n",
    "    [[8, 0, 0], [0, 0, 0], [0, 0, 0]],\n",
    "    [[1, 8, 0], [0, 0, 0], [0, 0, 0]],\n",
    "    [[1, 0, 8], [0, 0, 0], [0, 0, 0]],\n",
    "    [[1, 0, 0], [8, 0, 0], [0, 0, 0]],\n",
    "    [[1, 0, 0], [0, 8, 0], [0, 0, 0]],\n",
    "    [[1, 0, 0], [0, 0, 8], [0, 0, 0]],\n",
    "    [[1, 0, 0], [0, 0, 0], [8, 0, 0]],\n",
    "    [[1, 0, 0], [0, 0, 0], [0, 8, 0]],\n",
    "    [[1, 0, 0], [0, 0, 0], [0, 0, 8]]\n",
    "]"
   ]
  },
  {
   "cell_type": "code",
   "execution_count": 17,
   "metadata": {},
   "outputs": [],
   "source": [
    "def iterativePolicyEvaluation(theta):\n",
    "    V = [0 for s in S]\n",
    "    while(True):\n",
    "        delta = 0\n",
    "        for(s in S):\n",
    "            v = V\n",
    "            for action_prob in [0.25, 0.25, 0.25, 0.25]:\n",
    "                for transition_prob in [1]:\n",
    "                    V[s] = action_prob * transition_prob * ()"
   ]
  },
  {
   "cell_type": "code",
   "execution_count": 23,
   "metadata": {},
   "outputs": [
    {
     "data": {
      "text/plain": [
       "[0, 0, 0, 0, 0, 0, 0, 0, 0]"
      ]
     },
     "execution_count": 23,
     "metadata": {},
     "output_type": "execute_result"
    }
   ],
   "source": [
    "[0 for s in S]"
   ]
  },
  {
   "cell_type": "code",
   "execution_count": 25,
   "metadata": {},
   "outputs": [
    {
     "name": "stdout",
     "output_type": "stream",
     "text": [
      "oi\n"
     ]
    }
   ],
   "source": [
    "for i in [1]:\n",
    "    print('oi')"
   ]
  },
  {
   "cell_type": "code",
   "execution_count": null,
   "metadata": {},
   "outputs": [],
   "source": []
  }
 ],
 "metadata": {
  "kernelspec": {
   "display_name": "Python 3",
   "language": "python",
   "name": "python3"
  },
  "language_info": {
   "codemirror_mode": {
    "name": "ipython",
    "version": 3
   },
   "file_extension": ".py",
   "mimetype": "text/x-python",
   "name": "python",
   "nbconvert_exporter": "python",
   "pygments_lexer": "ipython3",
   "version": "3.7.5"
  }
 },
 "nbformat": 4,
 "nbformat_minor": 2
}
