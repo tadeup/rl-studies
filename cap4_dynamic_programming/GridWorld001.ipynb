{
 "cells": [
  {
   "cell_type": "code",
   "execution_count": 80,
   "metadata": {},
   "outputs": [],
   "source": [
    "class GridWorld:\n",
    "    def __init__(self, size, objPosX, objPosY, playerPosX, playerPosY, reward):\n",
    "        self.size = size\n",
    "        self.reward = reward\n",
    "        \n",
    "        self.objPosX = objPosX\n",
    "        self.objPosY = objPosY\n",
    "        self.playerPosX = playerPosX\n",
    "        self.playerPosY = playerPosY\n",
    "        \n",
    "        self.genWorld()\n",
    "    def show(self):\n",
    "        for i in self.world:\n",
    "            print('|%s|' % ', '.join(map(str, i)))\n",
    "    def act(self, action):\n",
    "        if(action=='up' and self.playerPosY>0):\n",
    "            self.playerPosY -= 1\n",
    "        elif(action=='down' and self.playerPosY<self.size-1):\n",
    "            self.playerPosY += 1\n",
    "        elif(action=='left' and self.playerPosX>0):\n",
    "            self.playerPosX -= 1\n",
    "        elif(action=='right' and self.playerPosX<self.size-1):\n",
    "            self.playerPosX += 1\n",
    "        else:\n",
    "            pass\n",
    "        self.genWorld()\n",
    "    \n",
    "    def genWorld(self):\n",
    "        self.world = [[0 for i in range(self.size)] for j in range(self.size)]\n",
    "        self.world[self.objPosY][self.objPosX] = self.reward\n",
    "        self.world[self.playerPosY][self.playerPosX] = 'x'"
   ]
  },
  {
   "cell_type": "code",
   "execution_count": 131,
   "metadata": {},
   "outputs": [],
   "source": [
    "gw = GridWorld(3, 0, 0, 2, 2, 9)"
   ]
  },
  {
   "cell_type": "code",
   "execution_count": 132,
   "metadata": {},
   "outputs": [
    {
     "name": "stdout",
     "output_type": "stream",
     "text": [
      "|9, 0, 0|\n",
      "|0, 0, 0|\n",
      "|0, 0, x|\n"
     ]
    }
   ],
   "source": [
    "gw.show()"
   ]
  },
  {
   "cell_type": "code",
   "execution_count": 133,
   "metadata": {},
   "outputs": [],
   "source": [
    "gw.act('down')"
   ]
  },
  {
   "cell_type": "code",
   "execution_count": null,
   "metadata": {},
   "outputs": [],
   "source": [
    "   "
   ]
  }
 ],
 "metadata": {
  "kernelspec": {
   "display_name": "Python 3",
   "language": "python",
   "name": "python3"
  },
  "language_info": {
   "codemirror_mode": {
    "name": "ipython",
    "version": 3
   },
   "file_extension": ".py",
   "mimetype": "text/x-python",
   "name": "python",
   "nbconvert_exporter": "python",
   "pygments_lexer": "ipython3",
   "version": "3.7.5"
  }
 },
 "nbformat": 4,
 "nbformat_minor": 2
}
